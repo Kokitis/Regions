{
 "cells": [
  {
   "cell_type": "code",
   "execution_count": 1,
   "metadata": {
    "ExecuteTime": {
     "end_time": "2018-02-18T09:16:13.843865Z",
     "start_time": "2018-02-18T09:16:13.177477Z"
    },
    "run_control": {
     "marked": true
    },
    "scrolled": false
   },
   "outputs": [
    {
     "name": "stdout",
     "output_type": "stream",
     "text": [
      "Database Filename:  C:\\Users\\Progi\\Documents\\GitHub\\Regions\\package\\data\\databases\\global_database.sqlite\nFinished\n"
     ]
    },
    {
     "name": "stderr",
     "output_type": "stream",
     "text": [
      "C:\\Users\\Progi\\Anaconda3\\lib\\site-packages\\fuzzywuzzy-0.16.0-py3.6.egg\\fuzzywuzzy\\fuzz.py:35: UserWarning: Using slow pure-python SequenceMatcher. Install python-Levenshtein to remove this warning\n"
     ]
    }
   ],
   "source": [
    "import package\n",
    "from pprint import pprint\n",
    "from functools import partial \n",
    "import os\n",
    "\n",
    "pprint = partial(pprint, width = 200)\n",
    "\n",
    "test_database = package.RegionDatabase('global_database', True)\n",
    "#test_database.addReport(package.test_table.addWEO(), 'ISO')\n",
    "print(\"Finished\")\n",
    "\n",
    "\n"
   ]
  },
  {
   "cell_type": "code",
   "execution_count": 2,
   "metadata": {
    "ExecuteTime": {
     "end_time": "2018-02-18T08:50:37.284223Z",
     "start_time": "2018-02-18T08:50:28.861232Z"
    },
    "scrolled": false
   },
   "outputs": [
    {
     "name": "stderr",
     "output_type": "stream",
     "text": [
      "\r                                                                               \r\rN/A% (0 of 192) |                        | Elapsed Time: 0:00:00 ETA:  --:--:--"
     ]
    },
    {
     "name": "stderr",
     "output_type": "stream",
     "text": [
      "\r                                                                               \r\r  1% (3 of 192) |                         | Elapsed Time: 0:00:00 ETA:  0:00:00"
     ]
    },
    {
     "name": "stderr",
     "output_type": "stream",
     "text": [
      "\r                                                                               \r\r  2% (5 of 192) |                         | Elapsed Time: 0:00:00 ETA:  0:00:04"
     ]
    },
    {
     "name": "stdout",
     "output_type": "stream",
     "text": [
      "Converting the table into a compatible json format...\n"
     ]
    },
    {
     "name": "stderr",
     "output_type": "stream",
     "text": [
      "\r                                                                               \r\r  4% (8 of 192) |#                        | Elapsed Time: 0:00:00 ETA:  0:00:05"
     ]
    },
    {
     "name": "stderr",
     "output_type": "stream",
     "text": [
      "\r                                                                               \r\r  5% (10 of 192) |#                       | Elapsed Time: 0:00:00 ETA:  0:00:06"
     ]
    },
    {
     "name": "stderr",
     "output_type": "stream",
     "text": [
      "\r                                                                               \r\r  6% (12 of 192) |#                       | Elapsed Time: 0:00:00 ETA:  0:00:07"
     ]
    },
    {
     "name": "stderr",
     "output_type": "stream",
     "text": [
      "\r                                                                               \r\r  6% (13 of 192) |#                       | Elapsed Time: 0:00:00 ETA:  0:00:09"
     ]
    },
    {
     "name": "stderr",
     "output_type": "stream",
     "text": [
      "\r                                                                               \r\r  7% (15 of 192) |#                       | Elapsed Time: 0:00:00 ETA:  0:00:10"
     ]
    },
    {
     "name": "stderr",
     "output_type": "stream",
     "text": [
      "\r                                                                               \r\r  8% (16 of 192) |##                      | Elapsed Time: 0:00:01 ETA:  0:00:11"
     ]
    },
    {
     "name": "stderr",
     "output_type": "stream",
     "text": [
      "\r                                                                               \r\r  8% (17 of 192) |##                      | Elapsed Time: 0:00:01 ETA:  0:00:11"
     ]
    },
    {
     "name": "stderr",
     "output_type": "stream",
     "text": [
      "\r                                                                               \r\r  9% (18 of 192) |##                      | Elapsed Time: 0:00:01 ETA:  0:00:12"
     ]
    },
    {
     "name": "stderr",
     "output_type": "stream",
     "text": [
      "\r                                                                               \r\r  9% (19 of 192) |##                      | Elapsed Time: 0:00:01 ETA:  0:00:15"
     ]
    },
    {
     "name": "stderr",
     "output_type": "stream",
     "text": [
      "\r                                                                               \r\r 10% (20 of 192) |##                      | Elapsed Time: 0:00:01 ETA:  0:00:15"
     ]
    },
    {
     "name": "stderr",
     "output_type": "stream",
     "text": [
      "\r                                                                               \r\r 11% (22 of 192) |##                      | Elapsed Time: 0:00:01 ETA:  0:00:16"
     ]
    },
    {
     "name": "stderr",
     "output_type": "stream",
     "text": [
      "\r                                                                               \r\r 11% (23 of 192) |##                      | Elapsed Time: 0:00:01 ETA:  0:00:17"
     ]
    },
    {
     "name": "stderr",
     "output_type": "stream",
     "text": [
      "\r                                                                               \r\r 12% (24 of 192) |###                     | Elapsed Time: 0:00:01 ETA:  0:00:18"
     ]
    },
    {
     "name": "stderr",
     "output_type": "stream",
     "text": [
      "\r                                                                               \r\r 13% (25 of 192) |###                     | Elapsed Time: 0:00:01 ETA:  0:00:17"
     ]
    },
    {
     "name": "stderr",
     "output_type": "stream",
     "text": [
      "\r                                                                               \r\r 13% (26 of 192) |###                     | Elapsed Time: 0:00:02 ETA:  0:00:17"
     ]
    },
    {
     "name": "stderr",
     "output_type": "stream",
     "text": [
      "\r                                                                               \r\r 14% (27 of 192) |###                     | Elapsed Time: 0:00:02 ETA:  0:00:17"
     ]
    },
    {
     "name": "stderr",
     "output_type": "stream",
     "text": [
      "\r                                                                               \r\r 14% (28 of 192) |###                     | Elapsed Time: 0:00:02 ETA:  0:00:17"
     ]
    },
    {
     "name": "stderr",
     "output_type": "stream",
     "text": [
      "\r                                                                               \r\r 15% (29 of 192) |###                     | Elapsed Time: 0:00:02 ETA:  0:00:17"
     ]
    },
    {
     "name": "stderr",
     "output_type": "stream",
     "text": [
      "\r                                                                               \r\r 15% (30 of 192) |###                     | Elapsed Time: 0:00:02 ETA:  0:00:17"
     ]
    },
    {
     "name": "stderr",
     "output_type": "stream",
     "text": [
      "\r                                                                               \r\r 16% (32 of 192) |####                    | Elapsed Time: 0:00:02 ETA:  0:00:15"
     ]
    },
    {
     "name": "stderr",
     "output_type": "stream",
     "text": [
      "\r                                                                               \r"
     ]
    },
    {
     "name": "stderr",
     "output_type": "stream",
     "text": [
      "\r 17% (33 of 192) |####                    | Elapsed Time: 0:00:02 ETA:  0:00:15"
     ]
    },
    {
     "name": "stderr",
     "output_type": "stream",
     "text": [
      "\r                                                                               \r"
     ]
    },
    {
     "name": "stderr",
     "output_type": "stream",
     "text": [
      "\r 17% (34 of 192) |####                    | Elapsed Time: 0:00:02 ETA:  0:00:15"
     ]
    },
    {
     "name": "stderr",
     "output_type": "stream",
     "text": [
      "\r                                                                               \r\r 18% (35 of 192) |####                    | Elapsed Time: 0:00:02 ETA:  0:00:15"
     ]
    },
    {
     "name": "stderr",
     "output_type": "stream",
     "text": [
      "\r                                                                               \r\r 18% (36 of 192) |####                    | Elapsed Time: 0:00:03 ETA:  0:00:15"
     ]
    },
    {
     "name": "stderr",
     "output_type": "stream",
     "text": [
      "\r                                                                               \r\r 19% (37 of 192) |####                    | Elapsed Time: 0:00:03 ETA:  0:00:15"
     ]
    },
    {
     "name": "stderr",
     "output_type": "stream",
     "text": [
      "\r                                                                               \r\r 20% (39 of 192) |####                    | Elapsed Time: 0:00:03 ETA:  0:00:13"
     ]
    },
    {
     "name": "stderr",
     "output_type": "stream",
     "text": [
      "\r                                                                               \r\r 21% (41 of 192) |#####                   | Elapsed Time: 0:00:03 ETA:  0:00:12"
     ]
    },
    {
     "name": "stderr",
     "output_type": "stream",
     "text": [
      "\r                                                                               \r\r 21% (42 of 192) |#####                   | Elapsed Time: 0:00:03 ETA:  0:00:12"
     ]
    },
    {
     "name": "stderr",
     "output_type": "stream",
     "text": [
      "\r                                                                               \r\r 22% (44 of 192) |#####                   | Elapsed Time: 0:00:03 ETA:  0:00:11"
     ]
    },
    {
     "name": "stderr",
     "output_type": "stream",
     "text": [
      "\r                                                                               \r\r 23% (46 of 192) |#####                   | Elapsed Time: 0:00:03 ETA:  0:00:10"
     ]
    },
    {
     "name": "stderr",
     "output_type": "stream",
     "text": [
      "\r                                                                               \r\r 24% (47 of 192) |#####                   | Elapsed Time: 0:00:03 ETA:  0:00:10"
     ]
    },
    {
     "name": "stderr",
     "output_type": "stream",
     "text": [
      "\r                                                                               \r\r 25% (49 of 192) |######                  | Elapsed Time: 0:00:03 ETA:  0:00:09"
     ]
    },
    {
     "name": "stderr",
     "output_type": "stream",
     "text": [
      "\r                                                                               \r\r 26% (51 of 192) |######                  | Elapsed Time: 0:00:03 ETA:  0:00:09"
     ]
    },
    {
     "name": "stderr",
     "output_type": "stream",
     "text": [
      "\r                                                                               \r\r 27% (52 of 192) |######                  | Elapsed Time: 0:00:04 ETA:  0:00:09"
     ]
    },
    {
     "name": "stderr",
     "output_type": "stream",
     "text": [
      "\r                                                                               \r\r 28% (54 of 192) |######                  | Elapsed Time: 0:00:04 ETA:  0:00:09"
     ]
    },
    {
     "name": "stderr",
     "output_type": "stream",
     "text": [
      "\r                                                                               \r\r 29% (56 of 192) |#######                 | Elapsed Time: 0:00:04 ETA:  0:00:09"
     ]
    },
    {
     "name": "stderr",
     "output_type": "stream",
     "text": [
      "\r                                                                               \r\r 30% (59 of 192) |#######                 | Elapsed Time: 0:00:04 ETA:  0:00:07"
     ]
    },
    {
     "name": "stderr",
     "output_type": "stream",
     "text": [
      "\r                                                                               \r\r 31% (61 of 192) |#######                 | Elapsed Time: 0:00:04 ETA:  0:00:07"
     ]
    },
    {
     "name": "stderr",
     "output_type": "stream",
     "text": [
      "\r                                                                               \r\r 33% (64 of 192) |########                | Elapsed Time: 0:00:04 ETA:  0:00:06"
     ]
    },
    {
     "name": "stderr",
     "output_type": "stream",
     "text": [
      "\r                                                                               \r\r 34% (66 of 192) |########                | Elapsed Time: 0:00:04 ETA:  0:00:06"
     ]
    },
    {
     "name": "stderr",
     "output_type": "stream",
     "text": [
      "\r                                                                               \r\r 35% (69 of 192) |########                | Elapsed Time: 0:00:04 ETA:  0:00:05"
     ]
    },
    {
     "name": "stderr",
     "output_type": "stream",
     "text": [
      "\r                                                                               \r\r 36% (71 of 192) |########                | Elapsed Time: 0:00:04 ETA:  0:00:05"
     ]
    },
    {
     "name": "stderr",
     "output_type": "stream",
     "text": [
      "\r                                                                               \r"
     ]
    },
    {
     "name": "stderr",
     "output_type": "stream",
     "text": [
      "\r 38% (73 of 192) |#########               | Elapsed Time: 0:00:04 ETA:  0:00:05"
     ]
    },
    {
     "name": "stderr",
     "output_type": "stream",
     "text": [
      "\r                                                                               \r"
     ]
    },
    {
     "name": "stderr",
     "output_type": "stream",
     "text": [
      "\r 39% (76 of 192) |#########               | Elapsed Time: 0:00:04 ETA:  0:00:05"
     ]
    },
    {
     "name": "stderr",
     "output_type": "stream",
     "text": [
      "\r                                                                               \r\r 40% (78 of 192) |#########               | Elapsed Time: 0:00:04 ETA:  0:00:04"
     ]
    },
    {
     "name": "stderr",
     "output_type": "stream",
     "text": [
      "\r                                                                               \r\r 42% (81 of 192) |##########              | Elapsed Time: 0:00:05 ETA:  0:00:04"
     ]
    },
    {
     "name": "stderr",
     "output_type": "stream",
     "text": [
      "\r                                                                               \r\r 43% (83 of 192) |##########              | Elapsed Time: 0:00:05 ETA:  0:00:04"
     ]
    },
    {
     "name": "stderr",
     "output_type": "stream",
     "text": [
      "\r                                                                               \r\r 44% (85 of 192) |##########              | Elapsed Time: 0:00:05 ETA:  0:00:03"
     ]
    },
    {
     "name": "stderr",
     "output_type": "stream",
     "text": [
      "\r                                                                               \r\r 45% (88 of 192) |###########             | Elapsed Time: 0:00:05 ETA:  0:00:03"
     ]
    },
    {
     "name": "stderr",
     "output_type": "stream",
     "text": [
      "\r                                                                               \r\r 46% (90 of 192) |###########             | Elapsed Time: 0:00:05 ETA:  0:00:03"
     ]
    },
    {
     "name": "stderr",
     "output_type": "stream",
     "text": [
      "\r                                                                               \r\r 48% (93 of 192) |###########             | Elapsed Time: 0:00:05 ETA:  0:00:03"
     ]
    },
    {
     "name": "stderr",
     "output_type": "stream",
     "text": [
      "\r                                                                               \r"
     ]
    },
    {
     "name": "stderr",
     "output_type": "stream",
     "text": [
      "\r 49% (95 of 192) |###########             | Elapsed Time: 0:00:05 ETA:  0:00:03"
     ]
    },
    {
     "name": "stderr",
     "output_type": "stream",
     "text": [
      "\r                                                                               \r\r 51% (98 of 192) |############            | Elapsed Time: 0:00:05 ETA:  0:00:03"
     ]
    },
    {
     "name": "stderr",
     "output_type": "stream",
     "text": [
      "\r                                                                               \r\r 52% (100 of 192) |###########            | Elapsed Time: 0:00:05 ETA:  0:00:03"
     ]
    },
    {
     "name": "stderr",
     "output_type": "stream",
     "text": [
      "\r                                                                               \r\r 53% (103 of 192) |############           | Elapsed Time: 0:00:05 ETA:  0:00:02"
     ]
    },
    {
     "name": "stderr",
     "output_type": "stream",
     "text": [
      "\r                                                                               \r"
     ]
    },
    {
     "name": "stderr",
     "output_type": "stream",
     "text": [
      "\r 54% (105 of 192) |############           | Elapsed Time: 0:00:05 ETA:  0:00:02"
     ]
    },
    {
     "name": "stderr",
     "output_type": "stream",
     "text": [
      "\r                                                                               \r\r 55% (107 of 192) |############           | Elapsed Time: 0:00:05 ETA:  0:00:02"
     ]
    },
    {
     "name": "stderr",
     "output_type": "stream",
     "text": [
      "\r                                                                               \r\r 57% (110 of 192) |#############          | Elapsed Time: 0:00:05 ETA:  0:00:02"
     ]
    },
    {
     "name": "stderr",
     "output_type": "stream",
     "text": [
      "\r                                                                               \r\r 58% (112 of 192) |#############          | Elapsed Time: 0:00:06 ETA:  0:00:02"
     ]
    },
    {
     "name": "stderr",
     "output_type": "stream",
     "text": [
      "\r                                                                               \r\r 59% (115 of 192) |#############          | Elapsed Time: 0:00:06 ETA:  0:00:02"
     ]
    },
    {
     "name": "stderr",
     "output_type": "stream",
     "text": [
      "\r                                                                               \r\r 60% (117 of 192) |##############         | Elapsed Time: 0:00:06 ETA:  0:00:02"
     ]
    },
    {
     "name": "stderr",
     "output_type": "stream",
     "text": [
      "\r                                                                               \r\r 62% (120 of 192) |##############         | Elapsed Time: 0:00:06 ETA:  0:00:02"
     ]
    },
    {
     "name": "stderr",
     "output_type": "stream",
     "text": [
      "\r                                                                               \r\r 63% (122 of 192) |##############         | Elapsed Time: 0:00:06 ETA:  0:00:02"
     ]
    },
    {
     "name": "stderr",
     "output_type": "stream",
     "text": [
      "\r                                                                               \r\r 64% (124 of 192) |##############         | Elapsed Time: 0:00:06 ETA:  0:00:02"
     ]
    },
    {
     "name": "stderr",
     "output_type": "stream",
     "text": [
      "\r                                                                               \r\r 66% (127 of 192) |###############        | Elapsed Time: 0:00:06 ETA:  0:00:01"
     ]
    },
    {
     "name": "stderr",
     "output_type": "stream",
     "text": [
      "\r                                                                               \r"
     ]
    },
    {
     "name": "stderr",
     "output_type": "stream",
     "text": [
      "\r 67% (129 of 192) |###############        | Elapsed Time: 0:00:06 ETA:  0:00:01"
     ]
    },
    {
     "name": "stderr",
     "output_type": "stream",
     "text": [
      "\r                                                                               \r\r 68% (132 of 192) |###############        | Elapsed Time: 0:00:06 ETA:  0:00:01"
     ]
    },
    {
     "name": "stderr",
     "output_type": "stream",
     "text": [
      "\r                                                                               \r"
     ]
    },
    {
     "name": "stderr",
     "output_type": "stream",
     "text": [
      "\r 69% (134 of 192) |################       | Elapsed Time: 0:00:06 ETA:  0:00:01"
     ]
    },
    {
     "name": "stderr",
     "output_type": "stream",
     "text": [
      "\r                                                                               \r\r 71% (137 of 192) |################       | Elapsed Time: 0:00:06 ETA:  0:00:01"
     ]
    },
    {
     "name": "stderr",
     "output_type": "stream",
     "text": [
      "\r                                                                               \r\r 72% (139 of 192) |################       | Elapsed Time: 0:00:06 ETA:  0:00:01"
     ]
    },
    {
     "name": "stderr",
     "output_type": "stream",
     "text": [
      "\r                                                                               \r\r 73% (141 of 192) |################       | Elapsed Time: 0:00:06 ETA:  0:00:01"
     ]
    },
    {
     "name": "stderr",
     "output_type": "stream",
     "text": [
      "\r                                                                               \r\r 75% (144 of 192) |#################      | Elapsed Time: 0:00:06 ETA:  0:00:01"
     ]
    },
    {
     "name": "stderr",
     "output_type": "stream",
     "text": [
      "\r                                                                               \r\r 76% (146 of 192) |#################      | Elapsed Time: 0:00:07 ETA:  0:00:01"
     ]
    },
    {
     "name": "stderr",
     "output_type": "stream",
     "text": [
      "\r                                                                               \r\r 77% (149 of 192) |#################      | Elapsed Time: 0:00:07 ETA:  0:00:01"
     ]
    },
    {
     "name": "stderr",
     "output_type": "stream",
     "text": [
      "\r                                                                               \r"
     ]
    },
    {
     "name": "stderr",
     "output_type": "stream",
     "text": [
      "\r 78% (151 of 192) |##################     | Elapsed Time: 0:00:07 ETA:  0:00:01"
     ]
    },
    {
     "name": "stderr",
     "output_type": "stream",
     "text": [
      "\r                                                                               \r\r 80% (154 of 192) |##################     | Elapsed Time: 0:00:07 ETA:  0:00:01"
     ]
    },
    {
     "name": "stderr",
     "output_type": "stream",
     "text": [
      "\r                                                                               \r\r 81% (156 of 192) |##################     | Elapsed Time: 0:00:07 ETA:  0:00:01"
     ]
    },
    {
     "name": "stderr",
     "output_type": "stream",
     "text": [
      "\r                                                                               \r\r 82% (158 of 192) |##################     | Elapsed Time: 0:00:07 ETA:  0:00:01"
     ]
    },
    {
     "name": "stderr",
     "output_type": "stream",
     "text": [
      "\r                                                                               \r"
     ]
    },
    {
     "name": "stderr",
     "output_type": "stream",
     "text": [
      "\r 83% (161 of 192) |###################    | Elapsed Time: 0:00:07 ETA:  0:00:01"
     ]
    },
    {
     "name": "stderr",
     "output_type": "stream",
     "text": [
      "\r                                                                               \r\r 84% (163 of 192) |###################    | Elapsed Time: 0:00:07 ETA:  0:00:00"
     ]
    },
    {
     "name": "stderr",
     "output_type": "stream",
     "text": [
      "\r                                                                               \r\r 86% (166 of 192) |###################    | Elapsed Time: 0:00:07 ETA:  0:00:00"
     ]
    },
    {
     "name": "stderr",
     "output_type": "stream",
     "text": [
      "\r                                                                               \r\r 87% (168 of 192) |####################   | Elapsed Time: 0:00:07 ETA:  0:00:00"
     ]
    },
    {
     "name": "stderr",
     "output_type": "stream",
     "text": [
      "\r                                                                               \r\r 88% (170 of 192) |####################   | Elapsed Time: 0:00:07 ETA:  0:00:00"
     ]
    },
    {
     "name": "stderr",
     "output_type": "stream",
     "text": [
      "\r                                                                               \r\r 89% (171 of 192) |####################   | Elapsed Time: 0:00:08 ETA:  0:00:00"
     ]
    },
    {
     "name": "stderr",
     "output_type": "stream",
     "text": [
      "\r                                                                               \r\r 89% (172 of 192) |####################   | Elapsed Time: 0:00:08 ETA:  0:00:00"
     ]
    },
    {
     "name": "stderr",
     "output_type": "stream",
     "text": [
      "\r                                                                               \r\r 90% (173 of 192) |####################   | Elapsed Time: 0:00:08 ETA:  0:00:00"
     ]
    },
    {
     "name": "stderr",
     "output_type": "stream",
     "text": [
      "\r                                                                               \r\r 91% (175 of 192) |####################   | Elapsed Time: 0:00:08 ETA:  0:00:00"
     ]
    },
    {
     "name": "stderr",
     "output_type": "stream",
     "text": [
      "\r                                                                               \r\r 92% (177 of 192) |#####################  | Elapsed Time: 0:00:08 ETA:  0:00:00"
     ]
    },
    {
     "name": "stderr",
     "output_type": "stream",
     "text": [
      "\r                                                                               \r\r 92% (178 of 192) |#####################  | Elapsed Time: 0:00:08 ETA:  0:00:00"
     ]
    },
    {
     "name": "stderr",
     "output_type": "stream",
     "text": [
      "\r                                                                               \r\r 93% (180 of 192) |#####################  | Elapsed Time: 0:00:08 ETA:  0:00:00"
     ]
    },
    {
     "name": "stderr",
     "output_type": "stream",
     "text": [
      "\r                                                                               \r\r 94% (182 of 192) |#####################  | Elapsed Time: 0:00:08 ETA:  0:00:00"
     ]
    },
    {
     "name": "stderr",
     "output_type": "stream",
     "text": [
      "\r                                                                               \r\r 95% (183 of 192) |#####################  | Elapsed Time: 0:00:08 ETA:  0:00:00"
     ]
    },
    {
     "name": "stderr",
     "output_type": "stream",
     "text": [
      "\r                                                                               \r\r 96% (185 of 192) |###################### | Elapsed Time: 0:00:08 ETA:  0:00:00"
     ]
    },
    {
     "name": "stderr",
     "output_type": "stream",
     "text": [
      "\r                                                                               \r\r 97% (188 of 192) |###################### | Elapsed Time: 0:00:09 ETA:  0:00:00"
     ]
    },
    {
     "name": "stderr",
     "output_type": "stream",
     "text": [
      "\r                                                                               \r\r 98% (190 of 192) |###################### | Elapsed Time: 0:00:09 ETA:  0:00:00"
     ]
    },
    {
     "name": "stderr",
     "output_type": "stream",
     "text": [
      "\r                                                                               \r\r100% (192 of 192) |#######################| Elapsed Time: 0:00:09 ETA:  0:00:00"
     ]
    }
   ],
   "source": [
    "filename = os.path.expanduser(\n",
    "    r\"~\\Google Drive\\Region Data\\Global\\WEOApr2017all.xlsx\")\n",
    "configuration = package.widgets.getWorldEconomicOutlookConfiguration()\n",
    "\n",
    "api_response = package.utilities.TableApi(filename, **configuration)"
   ]
  },
  {
   "cell_type": "code",
   "execution_count": 3,
   "metadata": {
    "ExecuteTime": {
     "end_time": "2018-02-18T08:50:56.065333Z",
     "start_time": "2018-02-18T08:50:55.754007Z"
    }
   },
   "outputs": [
    {
     "name": "stdout",
     "output_type": "stream",
     "text": [
      "Importing from Dict...\n"
     ]
    },
    {
     "name": "stdout",
     "output_type": "stream",
     "text": [
      "size of database: 0.14 MB\n"
     ]
    },
    {
     "name": "stdout",
     "output_type": "stream",
     "text": [
      "Size of database: 0.14 MB\nFinished in  PT4.104617S\nCould not locate these regions: \n"
     ]
    }
   ],
   "source": [
    "test_database.addFromApi(api_response.data)"
   ]
  },
  {
   "cell_type": "code",
   "execution_count": 2,
   "metadata": {
    "collapsed": true
   },
   "outputs": [
    {
     "data": {
      "text/plain": [
       "{'namespace': {'code': 'ISO',\n  'name': 'International Organization for Standardization',\n  'regex': '(?P<iso2>[A-Z]{2})|(?P<iso3>[A-Z]{3})|(?P<numeric>[0-9]{3})',\n  'subtypes': 'iso2|iso3|numeric',\n  'url': 'https://www.iso.org/iso-3166-country-codes.html'},\n 'regions': [{'code': 'AFG',\n   'identifiers': ['AF', 'AFG', '004'],\n   'name': 'Afghanistan',\n   'regionType': 'country'},\n  {'code': 'ALB',\n   'identifiers': ['AL', 'ALB', '008'],\n   'name': 'Albania',\n   'regionType': 'country'},\n  {'code': 'DZA',\n   'identifiers': ['DZ', 'DZA', '012'],\n   'name': 'Algeria',\n   'regionType': 'country'},\n  {'code': 'ASM',\n   'identifiers': ['AS', 'ASM', '016'],\n   'name': 'American Samoa',\n   'regionType': 'country'},\n  {'code': 'AND',\n   'identifiers': ['AD', 'AND', '020'],\n   'name': 'Andorra',\n   'regionType': 'country'},\n  {'code': 'AGO',\n   'identifiers': ['AO', 'AGO', '024'],\n   'name': 'Angola',\n   'regionType': 'country'},\n  {'code': 'AIA',\n   'identifiers': ['AI', 'AIA', '660'],\n   'name': 'Anguilla',\n   'regionType': 'country'},\n  {'code': 'ATA',\n   'identifiers': ['AQ', 'ATA', '010'],\n   'name': 'Antarctica',\n   'regionType': 'country'},\n  {'code': 'ATG',\n   'identifiers': ['AG', 'ATG', '028'],\n   'name': 'Antigua and Barbuda',\n   'regionType': 'country'},\n  {'code': 'ARG',\n   'identifiers': ['AR', 'ARG', '032'],\n   'name': 'Argentina',\n   'regionType': 'country'},\n  {'code': 'ARM',\n   'identifiers': ['AM', 'ARM', '051'],\n   'name': 'Armenia',\n   'regionType': 'country'},\n  {'code': 'ABW',\n   'identifiers': ['AW', 'ABW', '533'],\n   'name': 'Aruba',\n   'regionType': 'country'},\n  {'code': 'AUS',\n   'identifiers': ['AU', 'AUS', '036'],\n   'name': 'Australia',\n   'regionType': 'country'},\n  {'code': 'AUT',\n   'identifiers': ['AT', 'AUT', '040'],\n   'name': 'Austria',\n   'regionType': 'country'},\n  {'code': 'AZE',\n   'identifiers': ['AZ', 'AZE', '031'],\n   'name': 'Azerbaijan',\n   'regionType': 'country'},\n  {'code': 'BHS',\n   'identifiers': ['BS', 'BHS', '044'],\n   'name': 'Bahamas',\n   'regionType': 'country'},\n  {'code': 'BHR',\n   'identifiers': ['BH', 'BHR', '048'],\n   'name': 'Bahrain',\n   'regionType': 'country'},\n  {'code': 'BGD',\n   'identifiers': ['BD', 'BGD', '050'],\n   'name': 'Bangladesh',\n   'regionType': 'country'},\n  {'code': 'BRB',\n   'identifiers': ['BB', 'BRB', '052'],\n   'name': 'Barbados',\n   'regionType': 'country'},\n  {'code': 'BLR',\n   'identifiers': ['BY', 'BLR', '112'],\n   'name': 'Belarus',\n   'regionType': 'country'},\n  {'code': 'BEL',\n   'identifiers': ['BE', 'BEL', '056'],\n   'name': 'Belgium',\n   'regionType': 'country'},\n  {'code': 'BLZ',\n   'identifiers': ['BZ', 'BLZ', '084'],\n   'name': 'Belize',\n   'regionType': 'country'},\n  {'code': 'BEN',\n   'identifiers': ['BJ', 'BEN', '204'],\n   'name': 'Benin',\n   'regionType': 'country'},\n  {'code': 'BMU',\n   'identifiers': ['BM', 'BMU', '060'],\n   'name': 'Bermuda',\n   'regionType': 'country'},\n  {'code': 'BTN',\n   'identifiers': ['BT', 'BTN', '064'],\n   'name': 'Bhutan',\n   'regionType': 'country'},\n  {'code': 'BOL',\n   'identifiers': ['BO', 'BOL', '068'],\n   'name': 'Bolivia (Plurinational State of)',\n   'regionType': 'country'},\n  {'code': 'BIH',\n   'identifiers': ['BA', 'BIH', '070'],\n   'name': 'Bosnia and Herzegovina',\n   'regionType': 'country'},\n  {'code': 'BWA',\n   'identifiers': ['BW', 'BWA', '072'],\n   'name': 'Botswana',\n   'regionType': 'country'},\n  {'code': 'BVT',\n   'identifiers': ['BV', 'BVT', '074'],\n   'name': 'Bouvet Island',\n   'regionType': 'country'},\n  {'code': 'BRA',\n   'identifiers': ['BR', 'BRA', '076'],\n   'name': 'Brazil',\n   'regionType': 'country'},\n  {'code': 'IOT',\n   'identifiers': ['IO', 'IOT', '086'],\n   'name': 'British Indian Ocean Territory',\n   'regionType': 'country'},\n  {'code': 'VGB',\n   'identifiers': ['VG', 'VGB', '092'],\n   'name': 'British Virgin Islands',\n   'regionType': 'country'},\n  {'code': 'BRN',\n   'identifiers': ['BN', 'BRN', '096'],\n   'name': 'Brunei Darussalam',\n   'regionType': 'country'},\n  {'code': 'BGR',\n   'identifiers': ['BG', 'BGR', '100'],\n   'name': 'Bulgaria',\n   'regionType': 'country'},\n  {'code': 'BFA',\n   'identifiers': ['BF', 'BFA', '854'],\n   'name': 'Burkina Faso',\n   'regionType': 'country'},\n  {'code': 'BDI',\n   'identifiers': ['BI', 'BDI', '108'],\n   'name': 'Burundi',\n   'regionType': 'country'},\n  {'code': 'KHM',\n   'identifiers': ['KH', 'KHM', '116'],\n   'name': 'Cambodia',\n   'regionType': 'country'},\n  {'code': 'CMR',\n   'identifiers': ['CM', 'CMR', '120'],\n   'name': 'Cameroon',\n   'regionType': 'country'},\n  {'code': 'CAN',\n   'identifiers': ['CA', 'CAN', '124'],\n   'name': 'Canada',\n   'regionType': 'country'},\n  {'code': 'CPV',\n   'identifiers': ['CV', 'CPV', '132'],\n   'name': 'Cabo Verde',\n   'regionType': 'country'},\n  {'code': 'BES',\n   'identifiers': ['BQ', 'BES', '535'],\n   'name': 'Bonaire, Sint Eustatius and Saba',\n   'regionType': 'country'},\n  {'code': 'CYM',\n   'identifiers': ['KY', 'CYM', '136'],\n   'name': 'Cayman Islands',\n   'regionType': 'country'},\n  {'code': 'CAF',\n   'identifiers': ['CF', 'CAF', '140'],\n   'name': 'Central African Republic',\n   'regionType': 'country'},\n  {'code': 'TCD',\n   'identifiers': ['TD', 'TCD', '148'],\n   'name': 'Chad',\n   'regionType': 'country'},\n  {'code': 'CHL',\n   'identifiers': ['CL', 'CHL', '152'],\n   'name': 'Chile',\n   'regionType': 'country'},\n  {'code': 'CHN',\n   'identifiers': ['CN', 'CHN', '156'],\n   'name': 'China',\n   'regionType': 'country'},\n  {'code': 'CCK',\n   'identifiers': ['CC', 'CCK', '166'],\n   'name': 'Cocos (Keeling) Islands',\n   'regionType': 'country'},\n  {'code': 'COL',\n   'identifiers': ['CO', 'COL', '170'],\n   'name': 'Colombia',\n   'regionType': 'country'},\n  {'code': 'COM',\n   'identifiers': ['KM', 'COM', '174'],\n   'name': 'Comoros',\n   'regionType': 'country'},\n  {'code': 'COG',\n   'identifiers': ['CG', 'COG', '178'],\n   'name': 'Congo',\n   'regionType': 'country'},\n  {'code': 'COD',\n   'identifiers': ['CD', 'COD', '180'],\n   'name': 'Democratic Republic of the Congo',\n   'regionType': 'country'},\n  {'code': 'COK',\n   'identifiers': ['CK', 'COK', '184'],\n   'name': 'Cook Islands',\n   'regionType': 'country'},\n  {'code': 'CRI',\n   'identifiers': ['CR', 'CRI', '188'],\n   'name': 'Costa Rica',\n   'regionType': 'country'},\n  {'code': 'HRV',\n   'identifiers': ['HR', 'HRV', '191'],\n   'name': 'Croatia',\n   'regionType': 'country'},\n  {'code': 'CUB',\n   'identifiers': ['CU', 'CUB', '192'],\n   'name': 'Cuba',\n   'regionType': 'country'},\n  {'code': 'CUW',\n   'identifiers': ['CW', 'CUW', '531'],\n   'name': 'Curaçao',\n   'regionType': 'country'},\n  {'code': 'CYP',\n   'identifiers': ['CY', 'CYP', '196'],\n   'name': 'Cyprus',\n   'regionType': 'country'},\n  {'code': 'CZE',\n   'identifiers': ['CZ', 'CZE', '203'],\n   'name': 'Czechia',\n   'regionType': 'country'},\n  {'code': 'CIV',\n   'identifiers': ['CI', 'CIV', '384'],\n   'name': \"Côte d'Ivoire\",\n   'regionType': 'country'},\n  {'code': 'DNK',\n   'identifiers': ['DK', 'DNK', '208'],\n   'name': 'Denmark',\n   'regionType': 'country'},\n  {'code': 'DJI',\n   'identifiers': ['DJ', 'DJI', '262'],\n   'name': 'Djibouti',\n   'regionType': 'country'},\n  {'code': 'DMA',\n   'identifiers': ['DM', 'DMA', '212'],\n   'name': 'Dominica',\n   'regionType': 'country'},\n  {'code': 'DOM',\n   'identifiers': ['DO', 'DOM', '214'],\n   'name': 'Dominican Republic',\n   'regionType': 'country'},\n  {'code': 'ECU',\n   'identifiers': ['EC', 'ECU', '218'],\n   'name': 'Ecuador',\n   'regionType': 'country'},\n  {'code': 'EGY',\n   'identifiers': ['EG', 'EGY', '818'],\n   'name': 'Egypt',\n   'regionType': 'country'},\n  {'code': 'SLV',\n   'identifiers': ['SV', 'SLV', '222'],\n   'name': 'El Salvador',\n   'regionType': 'country'},\n  {'code': 'GNQ',\n   'identifiers': ['GQ', 'GNQ', '226'],\n   'name': 'Equatorial Guinea',\n   'regionType': 'country'},\n  {'code': 'ERI',\n   'identifiers': ['ER', 'ERI', '232'],\n   'name': 'Eritrea',\n   'regionType': 'country'},\n  {'code': 'EST',\n   'identifiers': ['EE', 'EST', '233'],\n   'name': 'Estonia',\n   'regionType': 'country'},\n  {'code': 'ETH',\n   'identifiers': ['ET', 'ETH', '231'],\n   'name': 'Ethiopia',\n   'regionType': 'country'},\n  {'code': 'FLK',\n   'identifiers': ['FK', 'FLK', '238'],\n   'name': 'Falkland Islands (Malvinas)',\n   'regionType': 'country'},\n  {'code': 'FRO',\n   'identifiers': ['FO', 'FRO', '234'],\n   'name': 'Faeroe Islands',\n   'regionType': 'country'},\n  {'code': 'FJI',\n   'identifiers': ['FJ', 'FJI', '242'],\n   'name': 'Fiji',\n   'regionType': 'country'},\n  {'code': 'FIN',\n   'identifiers': ['FI', 'FIN', '246'],\n   'name': 'Finland',\n   'regionType': 'country'},\n  {'code': 'FRA',\n   'identifiers': ['FR', 'FRA', '250'],\n   'name': 'France',\n   'regionType': 'country'},\n  {'code': 'GUF',\n   'identifiers': ['GF', 'GUF', '254'],\n   'name': 'French Guiana',\n   'regionType': 'country'},\n  {'code': 'PYF',\n   'identifiers': ['PF', 'PYF', '258'],\n   'name': 'French Polynesia',\n   'regionType': 'country'},\n  {'code': 'ATF',\n   'identifiers': ['TF', 'ATF', '260'],\n   'name': 'French Southern Territories',\n   'regionType': 'country'},\n  {'code': 'GAB',\n   'identifiers': ['GA', 'GAB', '266'],\n   'name': 'Gabon',\n   'regionType': 'country'},\n  {'code': 'GMB',\n   'identifiers': ['GM', 'GMB', '270'],\n   'name': 'Gambia',\n   'regionType': 'country'},\n  {'code': 'GEO',\n   'identifiers': ['GE', 'GEO', '268'],\n   'name': 'Georgia',\n   'regionType': 'country'},\n  {'code': 'DEU',\n   'identifiers': ['DE', 'DEU', '276'],\n   'name': 'Germany',\n   'regionType': 'country'},\n  {'code': 'GHA',\n   'identifiers': ['GH', 'GHA', '288'],\n   'name': 'Ghana',\n   'regionType': 'country'},\n  {'code': 'GIB',\n   'identifiers': ['GI', 'GIB', '292'],\n   'name': 'Gibraltar',\n   'regionType': 'country'},\n  {'code': 'GRC',\n   'identifiers': ['GR', 'GRC', '300'],\n   'name': 'Greece',\n   'regionType': 'country'},\n  {'code': 'GRL',\n   'identifiers': ['GL', 'GRL', '304'],\n   'name': 'Greenland',\n   'regionType': 'country'},\n  {'code': 'GRD',\n   'identifiers': ['GD', 'GRD', '308'],\n   'name': 'Grenada',\n   'regionType': 'country'},\n  {'code': 'GLP',\n   'identifiers': ['GP', 'GLP', '312'],\n   'name': 'Guadeloupe',\n   'regionType': 'country'},\n  {'code': 'GUM',\n   'identifiers': ['GU', 'GUM', '316'],\n   'name': 'Guam',\n   'regionType': 'country'},\n  {'code': 'GTM',\n   'identifiers': ['GT', 'GTM', '320'],\n   'name': 'Guatemala',\n   'regionType': 'country'},\n  {'code': 'GGY',\n   'identifiers': ['GG', 'GGY', '831'],\n   'name': 'Guernsey',\n   'regionType': 'country'},\n  {'code': 'GIN',\n   'identifiers': ['GN', 'GIN', '324'],\n   'name': 'Guinea',\n   'regionType': 'country'},\n  {'code': 'GNB',\n   'identifiers': ['GW', 'GNB', '624'],\n   'name': 'Guinea-Bissau',\n   'regionType': 'country'},\n  {'code': 'GUY',\n   'identifiers': ['GY', 'GUY', '328'],\n   'name': 'Guyana',\n   'regionType': 'country'},\n  {'code': 'HTI',\n   'identifiers': ['HT', 'HTI', '332'],\n   'name': 'Haiti',\n   'regionType': 'country'},\n  {'code': 'HMD',\n   'identifiers': ['HM', 'HMD', '334'],\n   'name': 'Heard & McDonald Islands',\n   'regionType': 'country'},\n  {'code': 'HND',\n   'identifiers': ['HN', 'HND', '340'],\n   'name': 'Honduras',\n   'regionType': 'country'},\n  {'code': 'HKG',\n   'identifiers': ['HK', 'HKG', '344'],\n   'name': 'China, Hong Kong Special Administrative Region',\n   'regionType': 'country'},\n  {'code': 'HUN',\n   'identifiers': ['HU', 'HUN', '348'],\n   'name': 'Hungary',\n   'regionType': 'country'},\n  {'code': 'ISL',\n   'identifiers': ['IS', 'ISL', '352'],\n   'name': 'Iceland',\n   'regionType': 'country'},\n  {'code': 'IND',\n   'identifiers': ['IN', 'IND', '356'],\n   'name': 'India',\n   'regionType': 'country'},\n  {'code': 'IDN',\n   'identifiers': ['ID', 'IDN', '360'],\n   'name': 'Indonesia',\n   'regionType': 'country'},\n  {'code': 'IRN',\n   'identifiers': ['IR', 'IRN', '364'],\n   'name': 'Iran (Islamic Republic of)',\n   'regionType': 'country'},\n  {'code': 'IRQ',\n   'identifiers': ['IQ', 'IRQ', '368'],\n   'name': 'Iraq',\n   'regionType': 'country'},\n  {'code': 'IRL',\n   'identifiers': ['IE', 'IRL', '372'],\n   'name': 'Ireland',\n   'regionType': 'country'},\n  {'code': 'IMN',\n   'identifiers': ['IM', 'IMN', '833'],\n   'name': 'Isle of Man',\n   'regionType': 'country'},\n  {'code': 'ISR',\n   'identifiers': ['IL', 'ISR', '376'],\n   'name': 'Israel',\n   'regionType': 'country'},\n  {'code': 'ITA',\n   'identifiers': ['IT', 'ITA', '380'],\n   'name': 'Italy',\n   'regionType': 'country'},\n  {'code': 'JAM',\n   'identifiers': ['JM', 'JAM', '388'],\n   'name': 'Jamaica',\n   'regionType': 'country'},\n  {'code': 'JPN',\n   'identifiers': ['JP', 'JPN', '392'],\n   'name': 'Japan',\n   'regionType': 'country'},\n  {'code': 'JEY',\n   'identifiers': ['JE', 'JEY', '832'],\n   'name': 'Jersey',\n   'regionType': 'country'},\n  {'code': 'JOR',\n   'identifiers': ['JO', 'JOR', '400'],\n   'name': 'Jordan',\n   'regionType': 'country'},\n  {'code': 'KAZ',\n   'identifiers': ['KZ', 'KAZ', '398'],\n   'name': 'Kazakhstan',\n   'regionType': 'country'},\n  {'code': 'KEN',\n   'identifiers': ['KE', 'KEN', '404'],\n   'name': 'Kenya',\n   'regionType': 'country'},\n  {'code': 'KIR',\n   'identifiers': ['KI', 'KIR', '296'],\n   'name': 'Kiribati',\n   'regionType': 'country'},\n  {'code': 'UVK',\n   'identifiers': ['XK', 'UVK'],\n   'name': 'Kosovo',\n   'regionType': 'country'},\n  {'code': 'KWT',\n   'identifiers': ['KW', 'KWT', '414'],\n   'name': 'Kuwait',\n   'regionType': 'country'},\n  {'code': 'KGZ',\n   'identifiers': ['KG', 'KGZ', '417'],\n   'name': 'Kyrgyzstan',\n   'regionType': 'country'},\n  {'code': 'LAO',\n   'identifiers': ['LA', 'LAO', '418'],\n   'name': \"Lao People's Democratic Republic\",\n   'regionType': 'country'},\n  {'code': 'LVA',\n   'identifiers': ['LV', 'LVA', '428'],\n   'name': 'Latvia',\n   'regionType': 'country'},\n  {'code': 'LBN',\n   'identifiers': ['LB', 'LBN', '422'],\n   'name': 'Lebanon',\n   'regionType': 'country'},\n  {'code': 'LSO',\n   'identifiers': ['LS', 'LSO', '426'],\n   'name': 'Lesotho',\n   'regionType': 'country'},\n  {'code': 'LBR',\n   'identifiers': ['LR', 'LBR', '430'],\n   'name': 'Liberia',\n   'regionType': 'country'},\n  {'code': 'LBY',\n   'identifiers': ['LY', 'LBY', '434'],\n   'name': 'Libya',\n   'regionType': 'country'},\n  {'code': 'LIE',\n   'identifiers': ['LI', 'LIE', '438'],\n   'name': 'Liechtenstein',\n   'regionType': 'country'},\n  {'code': 'LTU',\n   'identifiers': ['LT', 'LTU', '440'],\n   'name': 'Lithuania',\n   'regionType': 'country'},\n  {'code': 'LUX',\n   'identifiers': ['LU', 'LUX', '442'],\n   'name': 'Luxembourg',\n   'regionType': 'country'},\n  {'code': 'MAC',\n   'identifiers': ['MO', 'MAC', '446'],\n   'name': 'China, Macao Special Administrative Region',\n   'regionType': 'country'},\n  {'code': 'MKD',\n   'identifiers': ['MK', 'MKD', '807'],\n   'name': 'The former Yugoslav Republic of Macedonia',\n   'regionType': 'country'},\n  {'code': 'MDG',\n   'identifiers': ['MG', 'MDG', '450'],\n   'name': 'Madagascar',\n   'regionType': 'country'},\n  {'code': 'MWI',\n   'identifiers': ['MW', 'MWI', '454'],\n   'name': 'Malawi',\n   'regionType': 'country'},\n  {'code': 'MYS',\n   'identifiers': ['MY', 'MYS', '458'],\n   'name': 'Malaysia',\n   'regionType': 'country'},\n  {'code': 'MDV',\n   'identifiers': ['MV', 'MDV', '462'],\n   'name': 'Maldives',\n   'regionType': 'country'},\n  {'code': 'MLI',\n   'identifiers': ['ML', 'MLI', '466'],\n   'name': 'Mali',\n   'regionType': 'country'},\n  {'code': 'MLT',\n   'identifiers': ['MT', 'MLT', '470'],\n   'name': 'Malta',\n   'regionType': 'country'},\n  {'code': 'MHL',\n   'identifiers': ['MH', 'MHL', '584'],\n   'name': 'Marshall Islands',\n   'regionType': 'country'},\n  {'code': 'MTQ',\n   'identifiers': ['MQ', 'MTQ', '474'],\n   'name': 'Martinique',\n   'regionType': 'country'},\n  {'code': 'MRT',\n   'identifiers': ['MR', 'MRT', '478'],\n   'name': 'Mauritania',\n   'regionType': 'country'},\n  {'code': 'MUS',\n   'identifiers': ['MU', 'MUS', '480'],\n   'name': 'Mauritius',\n   'regionType': 'country'},\n  {'code': 'MYT',\n   'identifiers': ['YT', 'MYT', '175'],\n   'name': 'Mayotte',\n   'regionType': 'country'},\n  {'code': 'MEX',\n   'identifiers': ['MX', 'MEX', '484'],\n   'name': 'Mexico',\n   'regionType': 'country'},\n  {'code': 'FSM',\n   'identifiers': ['FM', 'FSM', '583'],\n   'name': 'Micronesia (Federated States of)',\n   'regionType': 'country'},\n  {'code': 'MDA',\n   'identifiers': ['MD', 'MDA', '498'],\n   'name': 'Republic of Moldova',\n   'regionType': 'country'},\n  {'code': 'MCO',\n   'identifiers': ['MC', 'MCO', '492'],\n   'name': 'Monaco',\n   'regionType': 'country'},\n  {'code': 'MNG',\n   'identifiers': ['MN', 'MNG', '496'],\n   'name': 'Mongolia',\n   'regionType': 'country'},\n  {'code': 'MNE',\n   'identifiers': ['ME', 'MNE', '499'],\n   'name': 'Montenegro',\n   'regionType': 'country'},\n  {'code': 'MSR',\n   'identifiers': ['MS', 'MSR', '500'],\n   'name': 'Montserrat',\n   'regionType': 'country'},\n  {'code': 'MAR',\n   'identifiers': ['MA', 'MAR', '504'],\n   'name': 'Morocco',\n   'regionType': 'country'},\n  {'code': 'MOZ',\n   'identifiers': ['MZ', 'MOZ', '508'],\n   'name': 'Mozambique',\n   'regionType': 'country'},\n  {'code': 'MMR',\n   'identifiers': ['MM', 'MMR', '104'],\n   'name': 'Myanmar',\n   'regionType': 'country'},\n  {'code': 'NAM',\n   'identifiers': ['NAM', '516'],\n   'name': 'Namibia',\n   'regionType': 'country'},\n  {'code': 'NRU',\n   'identifiers': ['NR', 'NRU', '520'],\n   'name': 'Nauru',\n   'regionType': 'country'},\n  {'code': 'NPL',\n   'identifiers': ['NP', 'NPL', '524'],\n   'name': 'Nepal',\n   'regionType': 'country'},\n  {'code': 'NLD',\n   'identifiers': ['NL', 'NLD', '528'],\n   'name': 'Netherlands',\n   'regionType': 'country'},\n  {'code': 'NCL',\n   'identifiers': ['NC', 'NCL', '540'],\n   'name': 'New Caledonia',\n   'regionType': 'country'},\n  {'code': 'NZL',\n   'identifiers': ['NZ', 'NZL', '554'],\n   'name': 'New Zealand',\n   'regionType': 'country'},\n  {'code': 'NIC',\n   'identifiers': ['NI', 'NIC', '558'],\n   'name': 'Nicaragua',\n   'regionType': 'country'},\n  {'code': 'NER',\n   'identifiers': ['NE', 'NER', '562'],\n   'name': 'Niger',\n   'regionType': 'country'},\n  {'code': 'NGA',\n   'identifiers': ['NG', 'NGA', '566'],\n   'name': 'Nigeria',\n   'regionType': 'country'},\n  {'code': 'NIU',\n   'identifiers': ['NU', 'NIU', '570'],\n   'name': 'Niue',\n   'regionType': 'country'},\n  {'code': 'NFK',\n   'identifiers': ['NF', 'NFK', '574'],\n   'name': 'Norfolk Island',\n   'regionType': 'country'},\n  {'code': 'PRK',\n   'identifiers': ['KP', 'PRK', '408'],\n   'name': \"Democratic People's Republic of Korea\",\n   'regionType': 'country'},\n  {'code': 'MNP',\n   'identifiers': ['MP', 'MNP', '580'],\n   'name': 'Northern Mariana Islands',\n   'regionType': 'country'},\n  {'code': 'NOR',\n   'identifiers': ['NO', 'NOR', '578'],\n   'name': 'Norway',\n   'regionType': 'country'},\n  {'code': 'OMN',\n   'identifiers': ['OM', 'OMN', '512'],\n   'name': 'Oman',\n   'regionType': 'country'},\n  {'code': 'PAK',\n   'identifiers': ['PK', 'PAK', '586'],\n   'name': 'Pakistan',\n   'regionType': 'country'},\n  {'code': 'PLW',\n   'identifiers': ['PW', 'PLW', '585'],\n   'name': 'Palau',\n   'regionType': 'country'},\n  {'code': 'PSE',\n   'identifiers': ['PS', 'PSE', '275'],\n   'name': 'State of Palestine',\n   'regionType': 'country'},\n  {'code': 'PAN',\n   'identifiers': ['PA', 'PAN', '591'],\n   'name': 'Panama',\n   'regionType': 'country'},\n  {'code': 'PNG',\n   'identifiers': ['PG', 'PNG', '598'],\n   'name': 'Papua New Guinea',\n   'regionType': 'country'},\n  {'code': 'PRY',\n   'identifiers': ['PY', 'PRY', '600'],\n   'name': 'Paraguay',\n   'regionType': 'country'},\n  {'code': 'PER',\n   'identifiers': ['PE', 'PER', '604'],\n   'name': 'Peru',\n   'regionType': 'country'},\n  {'code': 'PHL',\n   'identifiers': ['PH', 'PHL', '608'],\n   'name': 'Philippines',\n   'regionType': 'country'},\n  {'code': 'PCN',\n   'identifiers': ['PN', 'PCN', '612'],\n   'name': 'Pitcairn',\n   'regionType': 'country'},\n  {'code': 'POL',\n   'identifiers': ['PL', 'POL', '616'],\n   'name': 'Poland',\n   'regionType': 'country'},\n  {'code': 'PRT',\n   'identifiers': ['PT', 'PRT', '620'],\n   'name': 'Portugal',\n   'regionType': 'country'},\n  {'code': 'PRI',\n   'identifiers': ['PR', 'PRI', '630'],\n   'name': 'Puerto Rico',\n   'regionType': 'country'},\n  {'code': 'QAT',\n   'identifiers': ['QA', 'QAT', '634'],\n   'name': 'Qatar',\n   'regionType': 'country'},\n  {'code': 'ROU',\n   'identifiers': ['RO', 'ROU', '642'],\n   'name': 'Romania',\n   'regionType': 'country'},\n  {'code': 'RUS',\n   'identifiers': ['RU', 'RUS', '643'],\n   'name': 'Russian Federation',\n   'regionType': 'country'},\n  {'code': 'RWA',\n   'identifiers': ['RW', 'RWA', '646'],\n   'name': 'Rwanda',\n   'regionType': 'country'},\n  {'code': 'REU',\n   'identifiers': ['RE', 'REU', '638'],\n   'name': 'Réunion',\n   'regionType': 'country'},\n  {'code': 'WSM',\n   'identifiers': ['WS', 'WSM', '882'],\n   'name': 'Samoa',\n   'regionType': 'country'},\n  {'code': 'SMR',\n   'identifiers': ['SM', 'SMR', '674'],\n   'name': 'San Marino',\n   'regionType': 'country'},\n  {'code': 'SAU',\n   'identifiers': ['SA', 'SAU', '682'],\n   'name': 'Saudi Arabia',\n   'regionType': 'country'},\n  {'code': 'SEN',\n   'identifiers': ['SN', 'SEN', '686'],\n   'name': 'Senegal',\n   'regionType': 'country'},\n  {'code': 'SRB',\n   'identifiers': ['RS', 'SRB', '688'],\n   'name': 'Serbia',\n   'regionType': 'country'},\n  {'code': 'SYC',\n   'identifiers': ['SC', 'SYC', '690'],\n   'name': 'Seychelles',\n   'regionType': 'country'},\n  {'code': 'SLE',\n   'identifiers': ['SL', 'SLE', '694'],\n   'name': 'Sierra Leone',\n   'regionType': 'country'},\n  {'code': 'SGP',\n   'identifiers': ['SG', 'SGP', '702'],\n   'name': 'Singapore',\n   'regionType': 'country'},\n  {'code': 'SXM',\n   'identifiers': ['SX', 'SXM', '534'],\n   'name': 'Sint Maarten (Dutch part)',\n   'regionType': 'country'},\n  {'code': 'SVK',\n   'identifiers': ['SK', 'SVK', '703'],\n   'name': 'Slovakia',\n   'regionType': 'country'},\n  {'code': 'SVN',\n   'identifiers': ['SI', 'SVN', '705'],\n   'name': 'Slovenia',\n   'regionType': 'country'},\n  {'code': 'SLB',\n   'identifiers': ['SB', 'SLB', '090'],\n   'name': 'Solomon Islands',\n   'regionType': 'country'},\n  {'code': 'SOM',\n   'identifiers': ['SO', 'SOM', '706'],\n   'name': 'Somalia',\n   'regionType': 'country'},\n  {'code': 'ZAF',\n   'identifiers': ['ZA', 'ZAF', '710'],\n   'name': 'South Africa',\n   'regionType': 'country'},\n  {'code': 'SGS',\n   'identifiers': ['GS', 'SGS', '239'],\n   'name': 'South Georgia & South Sandwich Islands',\n   'regionType': 'country'},\n  {'code': 'KOR',\n   'identifiers': ['KR', 'KOR', '410'],\n   'name': 'Republic of Korea',\n   'regionType': 'country'},\n  {'code': 'SSD',\n   'identifiers': ['SS', 'SSD', '728'],\n   'name': 'South Sudan',\n   'regionType': 'country'},\n  {'code': 'ESP',\n   'identifiers': ['ES', 'ESP', '724'],\n   'name': 'Spain',\n   'regionType': 'country'},\n  {'code': 'LKA',\n   'identifiers': ['LK', 'LKA', '144'],\n   'name': 'Sri Lanka',\n   'regionType': 'country'},\n  {'code': 'BLM',\n   'identifiers': ['BL', 'BLM', '652'],\n   'name': 'Saint Barthélemy',\n   'regionType': 'country'},\n  {'code': 'SHN',\n   'identifiers': ['SH', 'SHN', '654'],\n   'name': 'Saint Helena',\n   'regionType': 'country'},\n  {'code': 'KNA',\n   'identifiers': ['KN', 'KNA', '659'],\n   'name': 'Saint Kitts and Nevis',\n   'regionType': 'country'},\n  {'code': 'LCA',\n   'identifiers': ['LC', 'LCA', '662'],\n   'name': 'Saint Lucia',\n   'regionType': 'country'},\n  {'code': 'MAF',\n   'identifiers': ['MF', 'MAF', '663'],\n   'name': 'Saint Martin (French part)',\n   'regionType': 'country'},\n  {'code': 'SPM',\n   'identifiers': ['PM', 'SPM', '666'],\n   'name': 'Saint Pierre and Miquelon',\n   'regionType': 'country'},\n  {'code': 'VCT',\n   'identifiers': ['VC', 'VCT', '670'],\n   'name': 'Saint Vincent and the Grenadines',\n   'regionType': 'country'},\n  {'code': 'SDN',\n   'identifiers': ['SD', 'SDN', '729'],\n   'name': 'Sudan',\n   'regionType': 'country'},\n  {'code': 'SUR',\n   'identifiers': ['SR', 'SUR', '740'],\n   'name': 'Suriname',\n   'regionType': 'country'},\n  {'code': 'SJM',\n   'identifiers': ['SJ', 'SJM', '744'],\n   'name': 'Svalbard and Jan Mayen Islands',\n   'regionType': 'country'},\n  {'code': 'SWZ',\n   'identifiers': ['SZ', 'SWZ', '748'],\n   'name': 'Swaziland',\n   'regionType': 'country'},\n  {'code': 'SWE',\n   'identifiers': ['SE', 'SWE', '752'],\n   'name': 'Sweden',\n   'regionType': 'country'},\n  {'code': 'CHE',\n   'identifiers': ['CH', 'CHE', '756'],\n   'name': 'Switzerland',\n   'regionType': 'country'},\n  {'code': 'SYR',\n   'identifiers': ['SY', 'SYR', '760'],\n   'name': 'Syrian Arab Republic',\n   'regionType': 'country'},\n  {'code': 'STP',\n   'identifiers': ['ST', 'STP', '678'],\n   'name': 'Sao Tome and Principe',\n   'regionType': 'country'},\n  {'code': 'TWN',\n   'identifiers': ['TW', 'TWN', '158'],\n   'name': 'Taiwan',\n   'regionType': 'country'},\n  {'code': 'TJK',\n   'identifiers': ['TJ', 'TJK', '762'],\n   'name': 'Tajikistan',\n   'regionType': 'country'},\n  {'code': 'TZA',\n   'identifiers': ['TZ', 'TZA', '834'],\n   'name': 'United Republic of Tanzania',\n   'regionType': 'country'},\n  {'code': 'THA',\n   'identifiers': ['TH', 'THA', '764'],\n   'name': 'Thailand',\n   'regionType': 'country'},\n  {'code': 'TLS',\n   'identifiers': ['TL', 'TLS', '626'],\n   'name': 'Timor-Leste',\n   'regionType': 'country'},\n  {'code': 'TGO',\n   'identifiers': ['TG', 'TGO', '768'],\n   'name': 'Togo',\n   'regionType': 'country'},\n  {'code': 'TKL',\n   'identifiers': ['TK', 'TKL', '772'],\n   'name': 'Tokelau',\n   'regionType': 'country'},\n  {'code': 'TON',\n   'identifiers': ['TO', 'TON', '776'],\n   'name': 'Tonga',\n   'regionType': 'country'},\n  {'code': 'TTO',\n   'identifiers': ['TT', 'TTO', '780'],\n   'name': 'Trinidad and Tobago',\n   'regionType': 'country'},\n  {'code': 'TUN',\n   'identifiers': ['TN', 'TUN', '788'],\n   'name': 'Tunisia',\n   'regionType': 'country'},\n  {'code': 'TUR',\n   'identifiers': ['TR', 'TUR', '792'],\n   'name': 'Turkey',\n   'regionType': 'country'},\n  {'code': 'TKM',\n   'identifiers': ['TM', 'TKM', '795'],\n   'name': 'Turkmenistan',\n   'regionType': 'country'},\n  {'code': 'TCA',\n   'identifiers': ['TC', 'TCA', '796'],\n   'name': 'Turks and Caicos Islands',\n   'regionType': 'country'},\n  {'code': 'TUV',\n   'identifiers': ['TV', 'TUV', '798'],\n   'name': 'Tuvalu',\n   'regionType': 'country'},\n  {'code': 'UMI',\n   'identifiers': ['UM', 'UMI', '581'],\n   'name': 'U.S. Outlying Islands',\n   'regionType': 'country'},\n  {'code': 'VIR',\n   'identifiers': ['VI', 'VIR', '850'],\n   'name': 'United States Virgin Islands',\n   'regionType': 'country'},\n  {'code': 'GBR',\n   'identifiers': ['GB', 'GBR', '826'],\n   'name': 'United Kingdom of Great Britain and Northern Ireland',\n   'regionType': 'country'},\n  {'code': 'USA',\n   'identifiers': ['US', 'USA', '840'],\n   'name': 'United States of America',\n   'regionType': 'country'},\n  {'code': 'UGA',\n   'identifiers': ['UG', 'UGA', '800'],\n   'name': 'Uganda',\n   'regionType': 'country'},\n  {'code': 'UKR',\n   'identifiers': ['UA', 'UKR', '804'],\n   'name': 'Ukraine',\n   'regionType': 'country'},\n  {'code': 'ARE',\n   'identifiers': ['AE', 'ARE', '784'],\n   'name': 'United Arab Emirates',\n   'regionType': 'country'},\n  {'code': 'URY',\n   'identifiers': ['UY', 'URY', '858'],\n   'name': 'Uruguay',\n   'regionType': 'country'},\n  {'code': 'UZB',\n   'identifiers': ['UZ', 'UZB', '860'],\n   'name': 'Uzbekistan',\n   'regionType': 'country'},\n  {'code': 'VUT',\n   'identifiers': ['VU', 'VUT', '548'],\n   'name': 'Vanuatu',\n   'regionType': 'country'},\n  {'code': 'VAT',\n   'identifiers': ['VA', 'VAT', '336'],\n   'name': 'Holy See',\n   'regionType': 'country'},\n  {'code': 'VEN',\n   'identifiers': ['VE', 'VEN', '862'],\n   'name': 'Venezuela (Bolivarian Republic of)',\n   'regionType': 'country'},\n  {'code': 'VNM',\n   'identifiers': ['VN', 'VNM', '704'],\n   'name': 'Vietnam',\n   'regionType': 'country'},\n  {'code': 'WLF',\n   'identifiers': ['WF', 'WLF', '876'],\n   'name': 'Wallis and Futuna Islands',\n   'regionType': 'country'},\n  {'code': 'ESH',\n   'identifiers': ['EH', 'ESH', '732'],\n   'name': 'Western Sahara',\n   'regionType': 'country'},\n  {'code': 'YEM',\n   'identifiers': ['YE', 'YEM', '887'],\n   'name': 'Yemen',\n   'regionType': 'country'},\n  {'code': 'ZMB',\n   'identifiers': ['ZM', 'ZMB', '894'],\n   'name': 'Zambia',\n   'regionType': 'country'},\n  {'code': 'ZWE',\n   'identifiers': ['ZW', 'ZWE', '716'],\n   'name': 'Zimbabwe',\n   'regionType': 'country'},\n  {'code': 'ALA',\n   'identifiers': ['AX', 'ALA', '248'],\n   'name': 'Åland Islands',\n   'regionType': 'country'},\n  {'code': 'EUU',\n   'identifiers': ['EU', 'EUU', '998'],\n   'name': 'European Union',\n   'regionType': 'country'},\n  {'code': 'EMU',\n   'identifiers': ['EZ', 'EMU', '163'],\n   'name': 'Eurozone',\n   'regionType': 'country'},\n  {'code': 'CIS',\n   'identifiers': ['CS', 'CIS', '901'],\n   'name': 'Commonwealth of Independent States',\n   'regionType': 'country'}]}"
      ]
     },
     "execution_count": 2,
     "metadata": {},
     "output_type": "execute_result"
    }
   ],
   "source": [
    "package.widgets.importIsoNamespace()"
   ]
  },
  {
   "cell_type": "code",
   "execution_count": null,
   "metadata": {},
   "outputs": [],
   "source": []
  }
 ],
 "metadata": {
  "kernelspec": {
   "display_name": "Python 3",
   "language": "python",
   "name": "python3"
  },
  "language_info": {
   "codemirror_mode": {
    "name": "ipython",
    "version": 3
   },
   "file_extension": ".py",
   "mimetype": "text/x-python",
   "name": "python",
   "nbconvert_exporter": "python",
   "pygments_lexer": "ipython3",
   "version": "3.6.3"
  }
 },
 "nbformat": 4,
 "nbformat_minor": 1
}
